{
 "cells": [
  {
   "cell_type": "markdown",
   "id": "e1baeff4",
   "metadata": {},
   "source": [
    "### Elective Lab 1/3: Lab 5b\n",
    "#### Katie Robinson"
   ]
  },
  {
   "cell_type": "markdown",
   "id": "97564e72",
   "metadata": {},
   "source": [
    "Add foxes that prey on rabbits to Daisy World. By changing the various degrees of freedom in this problem, look for “predator-prey” oscillations, in which the fox and rabbit populations go through periodic highs and lows. Hand-in a discussion and plots describing and showing the most interesting oscillations/longest non-trivial steady state you can find."
   ]
  },
  {
   "cell_type": "markdown",
   "id": "e708f61b",
   "metadata": {},
   "source": [
    "In the first half of lab 5, I modified the daisy world model to include an evolving population of rabbits that feed on the daises. The\n",
    "rabbit birth rate will be proportional to the area covered by the daisies while, conversely, the daisy *death rate* will be proportional to the rabbit population. To recap the changes I made in this part of the lab:\n",
    "\n",
    "The rabbit concentration changes over time according to $$\\frac{dR}{dt} = A_R(\\beta_R x-\\chi_R),$$ where $\\beta_R$ is the bunny growth rate and x is the fractional area of bare ground, $$x = 1 - A_w - A_b - A_R,$$ \n",
    "\n",
    "where $A_w$, $A_b$, and $A_R$ are the fractions of the total planetary area covered by white daises, black daises, and rabbits, respectively, and $\\chi_R$ is the bunny death rate. These variables ($\\beta_R$, $\\chi_R$) were also added to the initvars file under uservars.\n",
    "\n",
    "Additionally, I added the rabbit population into the daisy equations, so that the daisy death rate is proportional to the population of rabbits. The more rabbits there are, the more quickly the population of daisies will decline. The new daisy equations are $$\\frac{dA_b}{dt} = A_b(\\beta_b x-\\chi A_R),$$ $$\\frac{dA_w}{dt} = A_w(\\beta_w x-\\chi A_R).$$"
   ]
  },
  {
   "cell_type": "markdown",
   "id": "99c7bfe9",
   "metadata": {},
   "source": [
    "The next step is to add foxes that prey on rabbits but leave daises alone. The fox birth rate will be proportional to the population of rabbits (ie. the planetary area covered by rabbits) and the rabbit death rate will be proportional to the population of foxes. \n",
    "\n",
    "The fox concentration changes over time according to $$\\frac{dF}{dt} = A_F(\\beta_R x-\\chi_R),$$ where $\\beta_R$ is the bunny growth rate and x is the fractional area of bare ground, $$x = 1 - A_w - A_b - A_R,$$ \n"
   ]
  },
  {
   "cell_type": "code",
   "execution_count": 24,
   "id": "c8d3e7ab",
   "metadata": {},
   "outputs": [],
   "source": [
    "# functions for problem initial\n",
    "import context\n",
    "from numlabs.lab5.lab5_funs import Integrator\n",
    "from collections import namedtuple\n",
    "import numpy as np\n",
    "import matplotlib.pyplot as plt\n",
    "import pandas as pd\n",
    "\n",
    "# New integrator class that includes rabbits\n",
    "\n",
    "class Rabbits(Integrator):\n",
    "    def set_yinit(self,new_blackconc,new_whiteconc,bunny_conc):\n",
    "        #\n",
    "        # read in 'albedo_white chi S0 L albedo_black R albedo_ground'\n",
    "        #\n",
    "        self.config[\"initvars\"][\"blackconc\"] = new_blackconc\n",
    "        self.config[\"initvars\"][\"whiteconc\"] = new_whiteconc\n",
    "        self.config[\"initvars\"][\"bunnyconc\"] = bunny_conc\n",
    "        uservars = namedtuple('uservars', self.config['uservars'].keys())\n",
    "        self.uservars = uservars(**self.config['uservars'])\n",
    "        #\n",
    "        # read in 'whiteconc blackconc'\n",
    "        #\n",
    "        initvars = namedtuple('initvars', self.config['initvars'].keys())\n",
    "        self.initvars = initvars(**self.config['initvars'])\n",
    "        self.yinit = np.array([self.initvars.whiteconc, self.initvars.blackconc,self.initvars.bunnyconc])\n",
    "        self.nvars = len(self.yinit)\n",
    "        return self.yinit\n",
    "\n",
    "    def __init__(self, coeff_file_name,new_blackconc,new_whiteconc,bunny_conc):\n",
    "        super().__init__(coeff_file_name)\n",
    "        self.set_yinit(new_blackconc,new_whiteconc,bunny_conc)\n",
    "        #self.set_yinit(new_whiteconc)\n",
    "        self.blackconc = new_blackconc\n",
    "        self.whiteconc = new_whiteconc\n",
    "        self.bunnyconc = bunny_conc\n",
    "\n",
    "    def find_temp(self, yvals):\n",
    "        \"\"\"\n",
    "            Calculate the temperatures over the white and black daisies\n",
    "            and the planetary equilibrium temperature given the daisy fractions\n",
    "            \n",
    "            input:  yvals -- array of dimension [2] with the white [0] and black [1]\n",
    "                    daisy fractiion\n",
    "            output:  white temperature (K), black temperature (K), equilibrium temperature (K)\n",
    "        \"\"\"\n",
    "        sigma = 5.67e-8  # Stefan Boltzman constant W/m^2/K^4\n",
    "        user = self.uservars\n",
    "        bare = 1.0 - yvals[0] - yvals[1]\n",
    "        albedo_p = bare * user.albedo_ground + \\\n",
    "            yvals[0] * user.albedo_white + yvals[1] * user.albedo_black\n",
    "        Te_4 = user.S0 / 4.0 * user.L * (1.0 - albedo_p) / sigma\n",
    "        temp_e = Te_4**0.25\n",
    "        eta = user.R * user.L * user.S0 / (4.0 * sigma)\n",
    "        temp_b = (eta * (albedo_p - user.albedo_black) + Te_4)**0.25\n",
    "        temp_w = (eta * (albedo_p - user.albedo_white) + Te_4)**0.25\n",
    "        return (temp_w, temp_b, temp_e)\n",
    "\n",
    "    def derivs5(self, y, t):\n",
    "        \"\"\"y[0]=fraction white daisies\n",
    "           y[1]=fraction black daisies\n",
    "           y[2]=fraction of bunnies\n",
    "           no feedback between daisies and\n",
    "           albedo_p (set to ground albedo)\n",
    "        \"\"\"\n",
    "        \n",
    "        temp_w, temp_b, temp_e = self.find_temp(y)\n",
    "\n",
    "        if (temp_b >= 277.5 and temp_b <= 312.5):\n",
    "            beta_b = 1.0 - 0.003265 * (295.0 - temp_b)**2.0\n",
    "        else:\n",
    "            beta_b = 0.0\n",
    "\n",
    "        if (temp_w >= 277.5 and temp_w <= 312.5):\n",
    "            beta_w = 1.0 - 0.003265 * (295.0 - temp_w)**2.0\n",
    "        else:\n",
    "            beta_w = 0.0\n",
    "        user = self.uservars\n",
    "        bare = 1.0 - y[0] - y[1]\n",
    "        # create a 1 x 2 element vector to hold the derivitive\n",
    "        f = np.empty_like(y)\n",
    "        f[2] = y[2] * (user.beta_r * (1-bare) - user.chiR)\n",
    "        f[0] = y[0] * (beta_w * bare - user.chi - f[2])\n",
    "        f[1] = y[1] * (beta_b * bare - user.chi - f[2])\n",
    "        \n",
    "        return f"
   ]
  },
  {
   "cell_type": "code",
   "execution_count": 25,
   "id": "57b92ba0",
   "metadata": {},
   "outputs": [
    {
     "data": {
      "image/png": "[encoded data removed]",
      "text/plain": [
       "<Figure size 432x288 with 1 Axes>"
      ]
     },
     "metadata": {
      "needs_background": "light"
     },
     "output_type": "display_data"
    }
   ],
   "source": [
    "Predators = Rabbits('adapt.yaml',0.2,0.4,0.3)\n",
    "timeVals, yVals, errorList = Predators.timeloop5Err()\n",
    "\n",
    "yvals = pd.DataFrame.from_records(yVals, columns=['white', 'black','bunnies'])\n",
    "#yVals\n",
    "\n",
    "thefig, theAx = plt.subplots(1, 1)\n",
    "\n",
    "points, = theAx.plot(timeVals, yvals['white'], '-b+', label='white daisies')\n",
    "points.set_markersize(12)\n",
    "theLine1, = theAx.plot(timeVals, yvals['black'], '--ko', label='black daisies')\n",
    "theLine2, = theAx.plot(timeVals, yvals['bunnies'], '--ro', label='bunnies')\n",
    "theAx.set_title('B) Bunnies decrease to zero')\n",
    "theAx.set_xlabel('time')\n",
    "theAx.set_ylabel('fractional coverage')\n",
    "out = theAx.legend(loc='best')"
   ]
  }
 ],
 "metadata": {
  "kernelspec": {
   "display_name": "Python 3 (ipykernel)",
   "language": "python",
   "name": "python3"
  },
  "language_info": {
   "codemirror_mode": {
    "name": "ipython",
    "version": 3
   },
   "file_extension": ".py",
   "mimetype": "text/x-python",
   "name": "python",
   "nbconvert_exporter": "python",
   "pygments_lexer": "ipython3",
   "version": "3.10.1"
  }
 },
 "nbformat": 4,
 "nbformat_minor": 5
}
